{
 "cells": [
  {
   "cell_type": "code",
   "execution_count": null,
   "metadata": {},
   "outputs": [],
   "source": [
    "string = \"Γειά σου Κόσμε\"\n",
    "print string\n",
    "print repr(string), '\\n'\n",
    "\n",
    "ustring = u\"Γειά σου Κόσμε\"\n",
    "print ustring\n",
    "print repr(ustring)\n",
    "print repr(ustring.encode('utf-8'))"
   ]
  },
  {
   "cell_type": "code",
   "execution_count": null,
   "metadata": {},
   "outputs": [],
   "source": [
    "# Alright, let's start breaking things.\n",
    "print str(string)\n",
    "print str(ustring)"
   ]
  },
  {
   "cell_type": "code",
   "execution_count": null,
   "metadata": {},
   "outputs": [],
   "source": [
    "# So str-casting unicode with non-ascii characters is out.\n",
    "# \"\".format()-ing is essentially the same thing.\n",
    "print \"{}\".format(string)\n",
    "print \"{}\".format(ustring)"
   ]
  },
  {
   "cell_type": "code",
   "execution_count": null,
   "metadata": {},
   "outputs": [],
   "source": [
    "# The args must be able to convert to the format string's type, so let's try:\n",
    "print u\"{}\".format(ustring)\n",
    "\n",
    "# But what if:\n",
    "print u\"{}\".format(string)"
   ]
  },
  {
   "cell_type": "code",
   "execution_count": null,
   "metadata": {},
   "outputs": [],
   "source": [
    "# ...yeah, no.\n",
    "# Ok, so what if we unicode cast it?\n",
    "print u\"{}\".format(unicode(string))"
   ]
  },
  {
   "cell_type": "code",
   "execution_count": null,
   "metadata": {},
   "outputs": [],
   "source": [
    "# Not like that, clearly.\n",
    "print u\"{}\".format(unicode(string, 'utf-8'))"
   ]
  },
  {
   "cell_type": "code",
   "execution_count": null,
   "metadata": {},
   "outputs": [],
   "source": [
    "# Better.\n",
    "# Just be careful how you cast unicode strings...\n",
    "print unicode(ustring)\n",
    "print unicode(ustring, 'utf-8')"
   ]
  },
  {
   "cell_type": "code",
   "execution_count": null,
   "metadata": {},
   "outputs": [],
   "source": [
    "# So we can't just go using `unicode(s, 'utf-8')` on any `basestring`. So if it might be str or unicode:\n",
    "print unicode(string, 'utf-8') if isinstance(string, str) else unicode(string)\n",
    "print unicode(ustring, 'utf-8') if isinstance(ustring, str) else unicode(ustring)"
   ]
  },
  {
   "cell_type": "code",
   "execution_count": null,
   "metadata": {},
   "outputs": [],
   "source": [
    "# This is almost identical to the `unicode_str` function I've added in a couple repos,\n",
    "# but my function adds one more arg. Why?\n",
    "bad_string = 'foo' + chr(255) + 'bar'\n",
    "print bad_string\n",
    "print repr(bad_string)\n",
    "print unicode(bad_string, 'utf-8')"
   ]
  },
  {
   "cell_type": "code",
   "execution_count": null,
   "metadata": {},
   "outputs": [],
   "source": [
    "# The third arg is how to respond to errors. Default, obviously, is to raise the error.\n",
    "# You can also ignore the offending characters\n",
    "print unicode(bad_string, 'utf-8', 'ignore')\n",
    "# or replace them with the replacement character. I do this in unicode_str.\n",
    "print unicode(bad_string, 'utf-8', 'replace')"
   ]
  },
  {
   "cell_type": "code",
   "execution_count": null,
   "metadata": {},
   "outputs": [],
   "source": [
    "# What about printing/writing json?\n",
    "import json\n",
    "\n",
    "# This doesn't break, but it's not utf-8.\n",
    "print json.dumps([string])\n",
    "print json.dumps([ustring])\n",
    "\n",
    "with open('sample.json', 'w') as f:\n",
    "    f.write(json.dumps([string, ustring]))\n",
    "\n",
    "with open('sample.json') as f:\n",
    "    text = f.read()\n",
    "    print '\\n', text\n",
    "    print repr(text)\n",
    "    print json.loads(text)"
   ]
  },
  {
   "cell_type": "code",
   "execution_count": null,
   "metadata": {},
   "outputs": [],
   "source": [
    "# Because json.dumps defaults to encode any non-ascii output (but not to utf-8). If we tell it not to...\n",
    "print repr(json.dumps([string], ensure_ascii=False))\n",
    "print repr(json.dumps([ustring], ensure_ascii=False))"
   ]
  },
  {
   "cell_type": "code",
   "execution_count": null,
   "metadata": {},
   "outputs": [],
   "source": [
    "# And while we can write the str,\n",
    "with open('no-error.json', 'w') as f:\n",
    "    f.write(json.dumps([string], ensure_ascii=False))\n",
    "\n",
    "with open('no-error.json') as f:\n",
    "    text = f.read()\n",
    "    print text\n",
    "    print repr(text)\n",
    "    print json.loads(text)\n",
    "\n",
    "# we can't write the unicode.\n",
    "with open('error.json', 'w') as f:\n",
    "    f.write(json.dumps([ustring], ensure_ascii=False))"
   ]
  },
  {
   "cell_type": "code",
   "execution_count": null,
   "metadata": {},
   "outputs": [],
   "source": [
    "# If the strings are unicode, we can then encode the json.dumps output\n",
    "print json.dumps([ustring], ensure_ascii=False).encode('utf-8')\n",
    "\n",
    "with open('sample2.json', 'w') as f:\n",
    "    f.write(json.dumps([ustring], ensure_ascii=False).encode('utf-8'))\n",
    "\n",
    "with open('sample2.json') as f:\n",
    "    text = f.read()\n",
    "    print '\\n', text\n",
    "    print repr(text)\n",
    "    print json.loads(text)\n",
    "\n",
    "# But if they're not...\n",
    "print json.dumps([string], ensure_ascii=False).encode('utf-8')"
   ]
  },
  {
   "cell_type": "code",
   "execution_count": null,
   "metadata": {},
   "outputs": [],
   "source": [
    "# mongoengine/MongoDB, requests, Flask, and click all use unicode strings.\n",
    "# I'm not sure if click does this in all cases, or just infers when a string needs to be unicode.\n",
    "# In any case, our main hangup seems to be that we keep trying to str()-cast and \"\".format() basestrings that\n",
    "# may in fact contain non-ascii characters. Let's stop that.\n",
    "# If we want to ensure something is a basestring,:\n",
    "\n",
    "def unicode_str(s):\n",
    "    return unicode(s, 'utf-8', 'replace') if isinstance(s, str) else unicode(s)\n",
    "\n",
    "ustrings = map(unicode_str, [string, ustring, bad_string])\n",
    "for u in ustrings:\n",
    "    print u, '\\t\\t', repr(u)\n",
    "    print u\"{}\".format(u), '\\t\\t', repr(u\"{}\".format(u)), '\\n'"
   ]
  },
  {
   "cell_type": "code",
   "execution_count": null,
   "metadata": {},
   "outputs": [],
   "source": [
    "with open('sample3.json', 'w') as f:\n",
    "    f.write(json.dumps(map(unicode_str, [string, ustring, bad_string]), indent=2, ensure_ascii=False).encode('utf-8'))\n",
    "\n",
    "with open('sample3.json') as f:\n",
    "    text = f.read()\n",
    "    print '\\n', text\n",
    "    print repr(text)\n",
    "    print json.loads(text)"
   ]
  },
  {
   "cell_type": "code",
   "execution_count": null,
   "metadata": {},
   "outputs": [],
   "source": []
  }
 ],
 "metadata": {
  "kernelspec": {
   "display_name": "Python 2",
   "language": "python",
   "name": "python2"
  },
  "language_info": {
   "codemirror_mode": {
    "name": "ipython",
    "version": 2
   },
   "file_extension": ".py",
   "mimetype": "text/x-python",
   "name": "python",
   "nbconvert_exporter": "python",
   "pygments_lexer": "ipython2",
   "version": "2.7.14"
  }
 },
 "nbformat": 4,
 "nbformat_minor": 2
}
